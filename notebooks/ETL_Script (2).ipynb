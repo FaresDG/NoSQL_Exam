{
 "cells": [
  {
   "cell_type": "markdown",
   "id": "ca0fb0fd-7919-408b-bfc8-686ae66e676b",
   "metadata": {},
   "source": [
    "# Import Librairies"
   ]
  },
  {
   "cell_type": "code",
   "execution_count": null,
   "id": "d8b4f4b7-b2cc-4daf-a1a0-5c06549e50e6",
   "metadata": {},
   "outputs": [],
   "source": [
    "!pip install pymongo\n",
    "!pip install pandas\n",
    "!pip install python-dateutil"
   ]
  },
  {
   "cell_type": "code",
   "execution_count": 1,
   "id": "d7ebddb6-20f2-4868-b58e-003467335450",
   "metadata": {},
   "outputs": [],
   "source": [
    "import os\n",
    "import shutil\n",
    "import pandas as pd\n",
    "import logging\n",
    "from datetime import datetime\n",
    "from pymongo import MongoClient"
   ]
  },
  {
   "cell_type": "markdown",
   "id": "60b96831",
   "metadata": {},
   "source": [
    "# CREDENTIALS"
   ]
  },
  {
   "cell_type": "code",
   "execution_count": 3,
   "id": "d6821c90-a97e-4de4-b9fb-d813d719367e",
   "metadata": {},
   "outputs": [],
   "source": [
    "\n",
    "\n",
    "USER    = os.getenv(\"MONGO_INITDB_ROOT_USERNAME\", \"admin\")\n",
    "PASSWORD  = os.getenv(\"MONGO_INITDB_ROOT_PASSWORD\", \"admin\")\n",
    "HOST    = \"mongo\"\n",
    "PORT    = 27017\n",
    "AUTH_DB = \"admin\"\n",
    "\n",
    "DB         = \"AIRBNB\"\n",
    "COLLECTION = \"Paris_listings\"\n",
    "\n",
    "\n"
   ]
  },
  {
   "cell_type": "code",
   "execution_count": 2,
   "id": "e2428b06-1fbc-4b9d-bd84-f482aac20d6f",
   "metadata": {},
   "outputs": [],
   "source": [
    "\n",
    "logging.basicConfig(\n",
    "    level=logging.INFO,\n",
    "    format=\"%(asctime)s  %(levelname)s  %(message)s\",\n",
    "    datefmt=\"%Y-%m-%d %H:%M:%S\"\n",
    ")\n"
   ]
  },
  {
   "cell_type": "markdown",
   "id": "d861db03-0be8-4f8a-b1ba-3591fd3b621a",
   "metadata": {},
   "source": [
    "# Connection to Mongo"
   ]
  },
  {
   "cell_type": "code",
   "execution_count": 4,
   "id": "ac8af5de-ee48-425b-902a-e55d2cf458cc",
   "metadata": {},
   "outputs": [],
   "source": [
    "def connect_mongo():\n",
    "   \n",
    "    uri = f\"mongodb://{USER}:{PASSWORD}@{HOST}:{PORT}/?authSource={AUTH_DB}\"\n",
    "    logging.info(f\"Connection MongoDB : {uri}\")\n",
    "    client = MongoClient(uri)\n",
    "    db = client[DB]\n",
    "    coll = db[COLLECTION]\n",
    "    return coll"
   ]
  },
  {
   "cell_type": "markdown",
   "id": "36e4412c",
   "metadata": {},
   "source": [
    "# Data Cleaning"
   ]
  },
  {
   "cell_type": "code",
   "execution_count": null,
   "id": "bc463998-2b11-4e8e-a889-37a321d8b356",
   "metadata": {},
   "outputs": [],
   "source": [
    "def clean_csv(csv_path):\n",
    "\n",
    "    csv_path =\"C:/Users/udossougbete/Desktop/NOSQLEXAM/Data/listings_Paris.csv\"\n",
    "    logging.info(f\"  → is loading : {csv_path}\")\n",
    "    try:\n",
    "     df = pd.read_csv(csv_path, sep=\",\", engine=\"python\")\n",
    "    except TypeError:\n",
    "     df = pd.read_csv(csv_path, sep=\",\", engine=\"python\")\n",
    "\n",
    "    df=df.fillna('')\n",
    "\n",
    "\n",
    "    records = df.to_dict(orient=\"records\")\n",
    "    logging.info(f\"    • Prêt à insérer {len(records)} document(s).\")\n",
    "    return records\n",
    "\n",
    " \n",
    "\n",
    "\n",
    "    "
   ]
  },
  {
   "cell_type": "code",
   "execution_count": null,
   "id": "86279f20",
   "metadata": {},
   "outputs": [],
   "source": [
    "def etl_for_loading():\n",
    "   \n",
    "    \n",
    "    coll = connect_mongo()\n",
    "    logging.info(f\" Collection in '{DB}': {coll.database.list_collection_names()}\")\n",
    "   \n",
    "\n",
    "    fname = os.path.basename(csv_path)\n",
    "    logging.info(f\"--- file being processed: {fname} ---\")\n",
    "    try:\n",
    "            records = clean_csv(csv_path)\n",
    "\n",
    "            logging.info(f\"  → Ingestion in MongoDB: {len(records)} documents.\")\n",
    "            result = coll.insert_many(records)\n",
    "            logging.info(f\"    ✔️ {len(result.inserted_ids)} Ingested docs from {fname}.\")\n",
    "\n",
    "            \n",
    "\n",
    "    except Exception as e:\n",
    "            logging.error(f\"    ❌ Error during the processing of {fname}: {e}\")\n",
    "           \n",
    "\n",
    " \n",
    "   \n",
    "\n",
    "# ─────────────────────────────────────────────────────────────────────────────────────\n",
    "# EXÉCUTION DU PIPELINE\n",
    "logging.info(\"=== DÉMARRAGE DU PIPELINE ETL À \" + datetime.now().strftime(\"%Y-%m-%d %H:%M:%S\") + \" ===\")\n",
    "etl_pipeline_for_all_new_csv()\n",
    "logging.info(\"=== FIN DU PIPELINE ETL À \" + datetime.now().strftime(\"%Y-%m-%d %H:%M:%S\") + \" ===\")\n"
   ]
  },
  {
   "cell_type": "code",
   "execution_count": null,
   "id": "b12b7050",
   "metadata": {},
   "outputs": [],
   "source": []
  }
 ],
 "metadata": {
  "kernelspec": {
   "display_name": "base",
   "language": "python",
   "name": "python3"
  },
  "language_info": {
   "codemirror_mode": {
    "name": "ipython",
    "version": 3
   },
   "file_extension": ".py",
   "mimetype": "text/x-python",
   "name": "python",
   "nbconvert_exporter": "python",
   "pygments_lexer": "ipython3",
   "version": "3.12.7"
  }
 },
 "nbformat": 4,
 "nbformat_minor": 5
}
